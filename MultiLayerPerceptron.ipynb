{
 "cells": [
  {
   "cell_type": "markdown",
   "metadata": {},
   "source": [
    "THIS NOTEBOOK HAS THE CODE FOR TRAINING A BASIC MULTI LAYER PERCEPTRON NEURAL NETWORK\n",
    "FOR THE CLASSIFICATION OF IMAGES IN THE CLASSIC FASION MNIST DATASET"
   ]
  },
  {
   "cell_type": "code",
   "execution_count": 1,
   "metadata": {},
   "outputs": [
    {
     "name": "stdout",
     "output_type": "stream",
     "text": [
      "WARNING:tensorflow:From C:\\Users\\pkgno\\AppData\\Roaming\\Python\\Python311\\site-packages\\keras\\src\\losses.py:2976: The name tf.losses.sparse_softmax_cross_entropy is deprecated. Please use tf.compat.v1.losses.sparse_softmax_cross_entropy instead.\n",
      "\n"
     ]
    }
   ],
   "source": [
    "#importing the libraries\n",
    "import tensorflow as tf"
   ]
  },
  {
   "cell_type": "code",
   "execution_count": 18,
   "metadata": {},
   "outputs": [],
   "source": [
    "#importing the dataset\n",
    "fashion_mnist = tf.keras.datasets.fashion_mnist\n",
    "(train_images, train_labels), (X_test, y_test) = fashion_mnist.load_data()"
   ]
  },
  {
   "cell_type": "code",
   "execution_count": 19,
   "metadata": {},
   "outputs": [],
   "source": [
    "X_train , y_train = train_images[:-5000] , train_labels[:-5000]\n",
    "X_valid , y_valid = train_images[-5000:] , train_labels[-5000:]"
   ]
  },
  {
   "cell_type": "code",
   "execution_count": 20,
   "metadata": {},
   "outputs": [
    {
     "data": {
      "text/plain": [
       "(55000, 28, 28)"
      ]
     },
     "execution_count": 20,
     "metadata": {},
     "output_type": "execute_result"
    }
   ],
   "source": [
    "X_train.shape"
   ]
  },
  {
   "cell_type": "code",
   "execution_count": 21,
   "metadata": {},
   "outputs": [
    {
     "data": {
      "text/plain": [
       "<matplotlib.image.AxesImage at 0x1e3e180f950>"
      ]
     },
     "execution_count": 21,
     "metadata": {},
     "output_type": "execute_result"
    },
    {
     "data": {
      "image/png": "[encoded data removed]",
      "text/plain": [
       "<Figure size 640x480 with 1 Axes>"
      ]
     },
     "metadata": {},
     "output_type": "display_data"
    }
   ],
   "source": [
    "import matplotlib.pyplot as plt\n",
    "\n",
    "plt.imshow(X_train[0])"
   ]
  },
  {
   "cell_type": "code",
   "execution_count": 22,
   "metadata": {},
   "outputs": [
    {
     "data": {
      "text/plain": [
       "(255, 0)"
      ]
     },
     "execution_count": 22,
     "metadata": {},
     "output_type": "execute_result"
    }
   ],
   "source": [
    "import numpy as np\n",
    "\n",
    "np.max(X_train[0]) , np.min(X_train[0])"
   ]
  },
  {
   "cell_type": "code",
   "execution_count": 23,
   "metadata": {},
   "outputs": [],
   "source": [
    "# for the sake of simpplicity we are scaling the pixel values of all the images to be between 0-1 for easy training\n",
    "\n",
    "X_train , X_valid , X_test = X_train/255 , X_valid/255 , X_test/255 "
   ]
  },
  {
   "cell_type": "code",
   "execution_count": 24,
   "metadata": {},
   "outputs": [
    {
     "data": {
      "text/plain": [
       "<matplotlib.image.AxesImage at 0x1e3e65bcf10>"
      ]
     },
     "execution_count": 24,
     "metadata": {},
     "output_type": "execute_result"
    },
    {
     "data": {
      "image/png": "[encoded data removed]",
      "text/plain": [
       "<Figure size 640x480 with 1 Axes>"
      ]
     },
     "metadata": {},
     "output_type": "display_data"
    }
   ],
   "source": [
    "plt.imshow(X_train[0] , cmap='gray')"
   ]
  },
  {
   "cell_type": "code",
   "execution_count": 25,
   "metadata": {},
   "outputs": [
    {
     "data": {
      "text/plain": [
       "(1.0, 0.0)"
      ]
     },
     "execution_count": 25,
     "metadata": {},
     "output_type": "execute_result"
    }
   ],
   "source": [
    "import numpy as np\n",
    "np.max(X_train[0]) , np.min(X_train[0])"
   ]
  },
  {
   "cell_type": "code",
   "execution_count": 26,
   "metadata": {},
   "outputs": [
    {
     "data": {
      "text/plain": [
       "array([9, 0, 0, ..., 9, 0, 2], dtype=uint8)"
      ]
     },
     "execution_count": 26,
     "metadata": {},
     "output_type": "execute_result"
    }
   ],
   "source": [
    "y_train"
   ]
  },
  {
   "cell_type": "code",
   "execution_count": 28,
   "metadata": {},
   "outputs": [],
   "source": [
    "class_names = ['T-shirt/top', 'Trouser', 'Pullover', 'Dress', 'Coat', 'Sandal', 'Shirt', 'Sneaker', 'Bag', 'Ankle boot']\n"
   ]
  },
  {
   "cell_type": "markdown",
   "metadata": {},
   "source": [
    "BUILDING THE SEQUENTIAL MODEL "
   ]
  },
  {
   "cell_type": "code",
   "execution_count": 29,
   "metadata": {},
   "outputs": [
    {
     "name": "stdout",
     "output_type": "stream",
     "text": [
      "WARNING:tensorflow:From C:\\Users\\pkgno\\AppData\\Roaming\\Python\\Python311\\site-packages\\keras\\src\\backend.py:873: The name tf.get_default_graph is deprecated. Please use tf.compat.v1.get_default_graph instead.\n",
      "\n"
     ]
    }
   ],
   "source": [
    "tf.random.set_seed(42)\n",
    "model = tf.keras.Sequential() # this is api that stacks a set of neurons(layers) in a sequential manner one on top of the other\n",
    "\n",
    "model.add( tf.keras.layers.Input(shape=[28,28]) )  # this is the input layer\n",
    "model.add( tf.keras.layers.Flatten() )\n",
    "\n",
    "#these are the hidden layers\n",
    "model.add(tf.keras.layers.Dense(300 , activation='relu') )\n",
    "model.add(tf.keras.layers.Dense(100 , activation='relu') )\n",
    "\n",
    "#this is the output layer\n",
    "model.add(tf.keras.layers.Dense(10 , activation='softmax' ))"
   ]
  },
  {
   "cell_type": "code",
   "execution_count": 30,
   "metadata": {},
   "outputs": [
    {
     "name": "stdout",
     "output_type": "stream",
     "text": [
      "Model: \"sequential\"\n",
      "_________________________________________________________________\n",
      " Layer (type)                Output Shape              Param #   \n",
      "=================================================================\n",
      " flatten (Flatten)           (None, 784)               0         \n",
      "                                                                 \n",
      " dense (Dense)               (None, 300)               235500    \n",
      "                                                                 \n",
      " dense_1 (Dense)             (None, 100)               30100     \n",
      "                                                                 \n",
      " dense_2 (Dense)             (None, 10)                1010      \n",
      "                                                                 \n",
      "=================================================================\n",
      "Total params: 266610 (1.02 MB)\n",
      "Trainable params: 266610 (1.02 MB)\n",
      "Non-trainable params: 0 (0.00 Byte)\n",
      "_________________________________________________________________\n"
     ]
    }
   ],
   "source": [
    "model.summary()"
   ]
  },
  {
   "cell_type": "code",
   "execution_count": 31,
   "metadata": {},
   "outputs": [],
   "source": [
    "#the bias and the weights for any layer can be accessed as follows\n",
    "weights , bias = model.layers[1].get_weights()"
   ]
  },
  {
   "cell_type": "code",
   "execution_count": 32,
   "metadata": {},
   "outputs": [
    {
     "data": {
      "text/plain": [
       "(array([[ 0.0682418 , -0.01672832,  0.02143435, ...,  0.02600963,\n",
       "         -0.04913595,  0.01647538],\n",
       "        [-0.0616179 , -0.06163661, -0.00476813, ..., -0.04251377,\n",
       "         -0.05444857,  0.03096561],\n",
       "        [-0.06937395, -0.02794771, -0.04154961, ...,  0.05605806,\n",
       "          0.01099898,  0.05685844],\n",
       "        ...,\n",
       "        [ 0.05260515,  0.00094099, -0.03054476, ...,  0.00412756,\n",
       "         -0.06203688, -0.01389463],\n",
       "        [ 0.07021371, -0.04404816, -0.01138112, ..., -0.01159635,\n",
       "         -0.07275106, -0.04926927],\n",
       "        [ 0.03115118, -0.01954119, -0.0225393 , ...,  0.05859208,\n",
       "          0.00545432,  0.04316328]], dtype=float32),\n",
       " array([0., 0., 0., 0., 0., 0., 0., 0., 0., 0., 0., 0., 0., 0., 0., 0., 0.,\n",
       "        0., 0., 0., 0., 0., 0., 0., 0., 0., 0., 0., 0., 0., 0., 0., 0., 0.,\n",
       "        0., 0., 0., 0., 0., 0., 0., 0., 0., 0., 0., 0., 0., 0., 0., 0., 0.,\n",
       "        0., 0., 0., 0., 0., 0., 0., 0., 0., 0., 0., 0., 0., 0., 0., 0., 0.,\n",
       "        0., 0., 0., 0., 0., 0., 0., 0., 0., 0., 0., 0., 0., 0., 0., 0., 0.,\n",
       "        0., 0., 0., 0., 0., 0., 0., 0., 0., 0., 0., 0., 0., 0., 0., 0., 0.,\n",
       "        0., 0., 0., 0., 0., 0., 0., 0., 0., 0., 0., 0., 0., 0., 0., 0., 0.,\n",
       "        0., 0., 0., 0., 0., 0., 0., 0., 0., 0., 0., 0., 0., 0., 0., 0., 0.,\n",
       "        0., 0., 0., 0., 0., 0., 0., 0., 0., 0., 0., 0., 0., 0., 0., 0., 0.,\n",
       "        0., 0., 0., 0., 0., 0., 0., 0., 0., 0., 0., 0., 0., 0., 0., 0., 0.,\n",
       "        0., 0., 0., 0., 0., 0., 0., 0., 0., 0., 0., 0., 0., 0., 0., 0., 0.,\n",
       "        0., 0., 0., 0., 0., 0., 0., 0., 0., 0., 0., 0., 0., 0., 0., 0., 0.,\n",
       "        0., 0., 0., 0., 0., 0., 0., 0., 0., 0., 0., 0., 0., 0., 0., 0., 0.,\n",
       "        0., 0., 0., 0., 0., 0., 0., 0., 0., 0., 0., 0., 0., 0., 0., 0., 0.,\n",
       "        0., 0., 0., 0., 0., 0., 0., 0., 0., 0., 0., 0., 0., 0., 0., 0., 0.,\n",
       "        0., 0., 0., 0., 0., 0., 0., 0., 0., 0., 0., 0., 0., 0., 0., 0., 0.,\n",
       "        0., 0., 0., 0., 0., 0., 0., 0., 0., 0., 0., 0., 0., 0., 0., 0., 0.,\n",
       "        0., 0., 0., 0., 0., 0., 0., 0., 0., 0., 0.], dtype=float32))"
      ]
     },
     "execution_count": 32,
     "metadata": {},
     "output_type": "execute_result"
    }
   ],
   "source": [
    "weights , bias"
   ]
  },
  {
   "cell_type": "markdown",
   "metadata": {},
   "source": [
    "The model must now be compiled by specifying the loss and the accuracy mwtrics"
   ]
  },
  {
   "cell_type": "code",
   "execution_count": 33,
   "metadata": {},
   "outputs": [
    {
     "name": "stdout",
     "output_type": "stream",
     "text": [
      "WARNING:tensorflow:From C:\\Users\\pkgno\\AppData\\Roaming\\Python\\Python311\\site-packages\\keras\\src\\optimizers\\__init__.py:309: The name tf.train.Optimizer is deprecated. Please use tf.compat.v1.train.Optimizer instead.\n",
      "\n"
     ]
    }
   ],
   "source": [
    "model.compile(\n",
    "    loss = 'sparse_categorical_crossentropy',\n",
    "    metrics = [\"accuracy\"],\n",
    "    optimizer = 'sgd'\n",
    ")"
   ]
  },
  {
   "cell_type": "code",
   "execution_count": 34,
   "metadata": {},
   "outputs": [
    {
     "name": "stdout",
     "output_type": "stream",
     "text": [
      "Epoch 1/30\n",
      "WARNING:tensorflow:From C:\\Users\\pkgno\\AppData\\Roaming\\Python\\Python311\\site-packages\\keras\\src\\utils\\tf_utils.py:492: The name tf.ragged.RaggedTensorValue is deprecated. Please use tf.compat.v1.ragged.RaggedTensorValue instead.\n",
      "\n",
      "WARNING:tensorflow:From C:\\Users\\pkgno\\AppData\\Roaming\\Python\\Python311\\site-packages\\keras\\src\\engine\\base_layer_utils.py:384: The name tf.executing_eagerly_outside_functions is deprecated. Please use tf.compat.v1.executing_eagerly_outside_functions instead.\n",
      "\n",
      "1719/1719 [==============================] - 3s 2ms/step - loss: 0.7098 - accuracy: 0.7681 - val_loss: 0.5012 - val_accuracy: 0.8284\n",
      "Epoch 2/30\n",
      "1719/1719 [==============================] - 3s 2ms/step - loss: 0.4848 - accuracy: 0.8340 - val_loss: 0.4619 - val_accuracy: 0.8326\n",
      "Epoch 3/30\n",
      "1719/1719 [==============================] - 3s 2ms/step - loss: 0.4382 - accuracy: 0.8468 - val_loss: 0.4226 - val_accuracy: 0.8518\n",
      "Epoch 4/30\n",
      "1719/1719 [==============================] - 3s 2ms/step - loss: 0.4139 - accuracy: 0.8554 - val_loss: 0.3913 - val_accuracy: 0.8612\n",
      "Epoch 5/30\n",
      "1719/1719 [==============================] - 3s 2ms/step - loss: 0.3933 - accuracy: 0.8625 - val_loss: 0.3901 - val_accuracy: 0.8596\n",
      "Epoch 6/30\n",
      "1719/1719 [==============================] - 3s 2ms/step - loss: 0.3773 - accuracy: 0.8669 - val_loss: 0.3927 - val_accuracy: 0.8626\n",
      "Epoch 7/30\n",
      "1719/1719 [==============================] - 3s 2ms/step - loss: 0.3654 - accuracy: 0.8704 - val_loss: 0.3689 - val_accuracy: 0.8674\n",
      "Epoch 8/30\n",
      "1719/1719 [==============================] - 3s 2ms/step - loss: 0.3540 - accuracy: 0.8746 - val_loss: 0.3705 - val_accuracy: 0.8652\n",
      "Epoch 9/30\n",
      "1719/1719 [==============================] - 3s 2ms/step - loss: 0.3435 - accuracy: 0.8786 - val_loss: 0.3481 - val_accuracy: 0.8778\n",
      "Epoch 10/30\n",
      "1719/1719 [==============================] - 3s 2ms/step - loss: 0.3334 - accuracy: 0.8811 - val_loss: 0.3473 - val_accuracy: 0.8738\n",
      "Epoch 11/30\n",
      "1719/1719 [==============================] - 3s 2ms/step - loss: 0.3252 - accuracy: 0.8842 - val_loss: 0.3708 - val_accuracy: 0.8644\n",
      "Epoch 12/30\n",
      "1719/1719 [==============================] - 3s 2ms/step - loss: 0.3175 - accuracy: 0.8854 - val_loss: 0.3427 - val_accuracy: 0.8748\n",
      "Epoch 13/30\n",
      "1719/1719 [==============================] - 3s 2ms/step - loss: 0.3103 - accuracy: 0.8901 - val_loss: 0.3286 - val_accuracy: 0.8810\n",
      "Epoch 14/30\n",
      "1719/1719 [==============================] - 3s 2ms/step - loss: 0.3031 - accuracy: 0.8915 - val_loss: 0.3347 - val_accuracy: 0.8818\n",
      "Epoch 15/30\n",
      "1719/1719 [==============================] - 3s 2ms/step - loss: 0.2970 - accuracy: 0.8930 - val_loss: 0.3332 - val_accuracy: 0.8832\n",
      "Epoch 16/30\n",
      "1719/1719 [==============================] - 3s 2ms/step - loss: 0.2900 - accuracy: 0.8955 - val_loss: 0.3285 - val_accuracy: 0.8798\n",
      "Epoch 17/30\n",
      "1719/1719 [==============================] - 3s 2ms/step - loss: 0.2848 - accuracy: 0.8971 - val_loss: 0.3333 - val_accuracy: 0.8784\n",
      "Epoch 18/30\n",
      "1719/1719 [==============================] - 3s 2ms/step - loss: 0.2788 - accuracy: 0.8993 - val_loss: 0.3265 - val_accuracy: 0.8844\n",
      "Epoch 19/30\n",
      "1719/1719 [==============================] - 3s 2ms/step - loss: 0.2743 - accuracy: 0.9010 - val_loss: 0.3491 - val_accuracy: 0.8704\n",
      "Epoch 20/30\n",
      "1719/1719 [==============================] - 3s 2ms/step - loss: 0.2693 - accuracy: 0.9028 - val_loss: 0.3196 - val_accuracy: 0.8852\n",
      "Epoch 21/30\n",
      "1719/1719 [==============================] - 3s 2ms/step - loss: 0.2642 - accuracy: 0.9048 - val_loss: 0.3138 - val_accuracy: 0.8856\n",
      "Epoch 22/30\n",
      "1719/1719 [==============================] - 3s 2ms/step - loss: 0.2584 - accuracy: 0.9072 - val_loss: 0.3130 - val_accuracy: 0.8852\n",
      "Epoch 23/30\n",
      "1719/1719 [==============================] - 3s 2ms/step - loss: 0.2548 - accuracy: 0.9081 - val_loss: 0.3347 - val_accuracy: 0.8794\n",
      "Epoch 24/30\n",
      "1719/1719 [==============================] - 3s 2ms/step - loss: 0.2496 - accuracy: 0.9115 - val_loss: 0.3186 - val_accuracy: 0.8826\n",
      "Epoch 25/30\n",
      "1719/1719 [==============================] - 3s 2ms/step - loss: 0.2451 - accuracy: 0.9119 - val_loss: 0.3186 - val_accuracy: 0.8816\n",
      "Epoch 26/30\n",
      "1719/1719 [==============================] - 3s 2ms/step - loss: 0.2418 - accuracy: 0.9138 - val_loss: 0.3108 - val_accuracy: 0.8842\n",
      "Epoch 27/30\n",
      "1719/1719 [==============================] - 3s 2ms/step - loss: 0.2364 - accuracy: 0.9149 - val_loss: 0.3135 - val_accuracy: 0.8884\n",
      "Epoch 28/30\n",
      "1719/1719 [==============================] - 3s 2ms/step - loss: 0.2333 - accuracy: 0.9164 - val_loss: 0.3123 - val_accuracy: 0.8860\n",
      "Epoch 29/30\n",
      "1719/1719 [==============================] - 3s 2ms/step - loss: 0.2295 - accuracy: 0.9175 - val_loss: 0.3077 - val_accuracy: 0.8852\n",
      "Epoch 30/30\n",
      "1719/1719 [==============================] - 3s 2ms/step - loss: 0.2255 - accuracy: 0.9195 - val_loss: 0.3053 - val_accuracy: 0.8854\n"
     ]
    }
   ],
   "source": [
    "history = model.fit(X_train , y_train , epochs=30 , validation_data=(X_valid , y_valid))"
   ]
  },
  {
   "cell_type": "code",
   "execution_count": 35,
   "metadata": {},
   "outputs": [
    {
     "data": {
      "text/plain": [
       "{'verbose': 1, 'epochs': 30, 'steps': 1719}"
      ]
     },
     "execution_count": 35,
     "metadata": {},
     "output_type": "execute_result"
    }
   ],
   "source": [
    "history.params"
   ]
  },
  {
   "cell_type": "code",
   "execution_count": 36,
   "metadata": {},
   "outputs": [
    {
     "data": {
      "text/plain": [
       "{'loss': [0.7097644209861755,\n",
       "  0.4848305881023407,\n",
       "  0.4382278323173523,\n",
       "  0.41392791271209717,\n",
       "  0.39329683780670166,\n",
       "  0.37731683254241943,\n",
       "  0.3653871417045593,\n",
       "  0.35400208830833435,\n",
       "  0.34354010224342346,\n",
       "  0.3334234654903412,\n",
       "  0.3252173364162445,\n",
       "  0.3175281882286072,\n",
       "  0.31034326553344727,\n",
       "  0.3030909299850464,\n",
       "  0.2969612181186676,\n",
       "  0.2900420129299164,\n",
       "  0.28483396768569946,\n",
       "  0.2788087725639343,\n",
       "  0.2742721736431122,\n",
       "  0.2692958116531372,\n",
       "  0.2642001211643219,\n",
       "  0.25843504071235657,\n",
       "  0.2547939419746399,\n",
       "  0.24958951771259308,\n",
       "  0.24512802064418793,\n",
       "  0.24177120625972748,\n",
       "  0.23636169731616974,\n",
       "  0.23334181308746338,\n",
       "  0.22950245440006256,\n",
       "  0.22546735405921936],\n",
       " 'accuracy': [0.7680545449256897,\n",
       "  0.8339999914169312,\n",
       "  0.846818208694458,\n",
       "  0.855400025844574,\n",
       "  0.8624545335769653,\n",
       "  0.8669090867042542,\n",
       "  0.8704181909561157,\n",
       "  0.8745999932289124,\n",
       "  0.878636360168457,\n",
       "  0.8811091184616089,\n",
       "  0.8841999769210815,\n",
       "  0.8853636384010315,\n",
       "  0.8900908827781677,\n",
       "  0.8915091156959534,\n",
       "  0.8930000066757202,\n",
       "  0.8954908847808838,\n",
       "  0.8970909118652344,\n",
       "  0.8993090987205505,\n",
       "  0.9010182023048401,\n",
       "  0.9028000235557556,\n",
       "  0.9047636389732361,\n",
       "  0.9071636199951172,\n",
       "  0.9081272482872009,\n",
       "  0.9114909172058105,\n",
       "  0.9118727445602417,\n",
       "  0.9137818217277527,\n",
       "  0.9149272441864014,\n",
       "  0.9163818359375,\n",
       "  0.9174545407295227,\n",
       "  0.9195272922515869],\n",
       " 'val_loss': [0.5011552572250366,\n",
       "  0.4619081914424896,\n",
       "  0.42255517840385437,\n",
       "  0.39132222533226013,\n",
       "  0.39005768299102783,\n",
       "  0.3926991820335388,\n",
       "  0.3689366579055786,\n",
       "  0.370479017496109,\n",
       "  0.34808337688446045,\n",
       "  0.34732434153556824,\n",
       "  0.3708372116088867,\n",
       "  0.3426893353462219,\n",
       "  0.32858899235725403,\n",
       "  0.3347354233264923,\n",
       "  0.3332213759422302,\n",
       "  0.32850879430770874,\n",
       "  0.3333396911621094,\n",
       "  0.3264674246311188,\n",
       "  0.3490772843360901,\n",
       "  0.31955686211586,\n",
       "  0.3137630820274353,\n",
       "  0.3130180239677429,\n",
       "  0.3346760869026184,\n",
       "  0.318591445684433,\n",
       "  0.3186399042606354,\n",
       "  0.3107699155807495,\n",
       "  0.31353145837783813,\n",
       "  0.3122856020927429,\n",
       "  0.3077405095100403,\n",
       "  0.30534547567367554],\n",
       " 'val_accuracy': [0.8284000158309937,\n",
       "  0.8325999975204468,\n",
       "  0.8518000245094299,\n",
       "  0.8611999750137329,\n",
       "  0.8596000075340271,\n",
       "  0.8626000285148621,\n",
       "  0.8673999905586243,\n",
       "  0.8651999831199646,\n",
       "  0.8777999877929688,\n",
       "  0.8737999796867371,\n",
       "  0.8644000291824341,\n",
       "  0.8748000264167786,\n",
       "  0.8809999823570251,\n",
       "  0.8817999958992004,\n",
       "  0.8831999897956848,\n",
       "  0.879800021648407,\n",
       "  0.8784000277519226,\n",
       "  0.8844000101089478,\n",
       "  0.8704000115394592,\n",
       "  0.885200023651123,\n",
       "  0.8855999708175659,\n",
       "  0.885200023651123,\n",
       "  0.8794000148773193,\n",
       "  0.8826000094413757,\n",
       "  0.881600022315979,\n",
       "  0.8841999769210815,\n",
       "  0.8884000182151794,\n",
       "  0.8859999775886536,\n",
       "  0.885200023651123,\n",
       "  0.8853999972343445]}"
      ]
     },
     "execution_count": 36,
     "metadata": {},
     "output_type": "execute_result"
    }
   ],
   "source": [
    "history.history"
   ]
  },
  {
   "cell_type": "code",
   "execution_count": 37,
   "metadata": {},
   "outputs": [
    {
     "data": {
      "text/html": [
       "<div>\n",
       "<style scoped>\n",
       "    .dataframe tbody tr th:only-of-type {\n",
       "        vertical-align: middle;\n",
       "    }\n",
       "\n",
       "    .dataframe tbody tr th {\n",
       "        vertical-align: top;\n",
       "    }\n",
       "\n",
       "    .dataframe thead th {\n",
       "        text-align: right;\n",
       "    }\n",
       "</style>\n",
       "<table border=\"1\" class=\"dataframe\">\n",
       "  <thead>\n",
       "    <tr style=\"text-align: right;\">\n",
       "      <th></th>\n",
       "      <th>loss</th>\n",
       "      <th>accuracy</th>\n",
       "      <th>val_loss</th>\n",
       "      <th>val_accuracy</th>\n",
       "    </tr>\n",
       "  </thead>\n",
       "  <tbody>\n",
       "    <tr>\n",
       "      <th>0</th>\n",
       "      <td>0.709764</td>\n",
       "      <td>0.768055</td>\n",
       "      <td>0.501155</td>\n",
       "      <td>0.8284</td>\n",
       "    </tr>\n",
       "    <tr>\n",
       "      <th>1</th>\n",
       "      <td>0.484831</td>\n",
       "      <td>0.834000</td>\n",
       "      <td>0.461908</td>\n",
       "      <td>0.8326</td>\n",
       "    </tr>\n",
       "    <tr>\n",
       "      <th>2</th>\n",
       "      <td>0.438228</td>\n",
       "      <td>0.846818</td>\n",
       "      <td>0.422555</td>\n",
       "      <td>0.8518</td>\n",
       "    </tr>\n",
       "    <tr>\n",
       "      <th>3</th>\n",
       "      <td>0.413928</td>\n",
       "      <td>0.855400</td>\n",
       "      <td>0.391322</td>\n",
       "      <td>0.8612</td>\n",
       "    </tr>\n",
       "    <tr>\n",
       "      <th>4</th>\n",
       "      <td>0.393297</td>\n",
       "      <td>0.862455</td>\n",
       "      <td>0.390058</td>\n",
       "      <td>0.8596</td>\n",
       "    </tr>\n",
       "    <tr>\n",
       "      <th>5</th>\n",
       "      <td>0.377317</td>\n",
       "      <td>0.866909</td>\n",
       "      <td>0.392699</td>\n",
       "      <td>0.8626</td>\n",
       "    </tr>\n",
       "    <tr>\n",
       "      <th>6</th>\n",
       "      <td>0.365387</td>\n",
       "      <td>0.870418</td>\n",
       "      <td>0.368937</td>\n",
       "      <td>0.8674</td>\n",
       "    </tr>\n",
       "    <tr>\n",
       "      <th>7</th>\n",
       "      <td>0.354002</td>\n",
       "      <td>0.874600</td>\n",
       "      <td>0.370479</td>\n",
       "      <td>0.8652</td>\n",
       "    </tr>\n",
       "    <tr>\n",
       "      <th>8</th>\n",
       "      <td>0.343540</td>\n",
       "      <td>0.878636</td>\n",
       "      <td>0.348083</td>\n",
       "      <td>0.8778</td>\n",
       "    </tr>\n",
       "    <tr>\n",
       "      <th>9</th>\n",
       "      <td>0.333423</td>\n",
       "      <td>0.881109</td>\n",
       "      <td>0.347324</td>\n",
       "      <td>0.8738</td>\n",
       "    </tr>\n",
       "    <tr>\n",
       "      <th>10</th>\n",
       "      <td>0.325217</td>\n",
       "      <td>0.884200</td>\n",
       "      <td>0.370837</td>\n",
       "      <td>0.8644</td>\n",
       "    </tr>\n",
       "    <tr>\n",
       "      <th>11</th>\n",
       "      <td>0.317528</td>\n",
       "      <td>0.885364</td>\n",
       "      <td>0.342689</td>\n",
       "      <td>0.8748</td>\n",
       "    </tr>\n",
       "    <tr>\n",
       "      <th>12</th>\n",
       "      <td>0.310343</td>\n",
       "      <td>0.890091</td>\n",
       "      <td>0.328589</td>\n",
       "      <td>0.8810</td>\n",
       "    </tr>\n",
       "    <tr>\n",
       "      <th>13</th>\n",
       "      <td>0.303091</td>\n",
       "      <td>0.891509</td>\n",
       "      <td>0.334735</td>\n",
       "      <td>0.8818</td>\n",
       "    </tr>\n",
       "    <tr>\n",
       "      <th>14</th>\n",
       "      <td>0.296961</td>\n",
       "      <td>0.893000</td>\n",
       "      <td>0.333221</td>\n",
       "      <td>0.8832</td>\n",
       "    </tr>\n",
       "    <tr>\n",
       "      <th>15</th>\n",
       "      <td>0.290042</td>\n",
       "      <td>0.895491</td>\n",
       "      <td>0.328509</td>\n",
       "      <td>0.8798</td>\n",
       "    </tr>\n",
       "    <tr>\n",
       "      <th>16</th>\n",
       "      <td>0.284834</td>\n",
       "      <td>0.897091</td>\n",
       "      <td>0.333340</td>\n",
       "      <td>0.8784</td>\n",
       "    </tr>\n",
       "    <tr>\n",
       "      <th>17</th>\n",
       "      <td>0.278809</td>\n",
       "      <td>0.899309</td>\n",
       "      <td>0.326467</td>\n",
       "      <td>0.8844</td>\n",
       "    </tr>\n",
       "    <tr>\n",
       "      <th>18</th>\n",
       "      <td>0.274272</td>\n",
       "      <td>0.901018</td>\n",
       "      <td>0.349077</td>\n",
       "      <td>0.8704</td>\n",
       "    </tr>\n",
       "    <tr>\n",
       "      <th>19</th>\n",
       "      <td>0.269296</td>\n",
       "      <td>0.902800</td>\n",
       "      <td>0.319557</td>\n",
       "      <td>0.8852</td>\n",
       "    </tr>\n",
       "    <tr>\n",
       "      <th>20</th>\n",
       "      <td>0.264200</td>\n",
       "      <td>0.904764</td>\n",
       "      <td>0.313763</td>\n",
       "      <td>0.8856</td>\n",
       "    </tr>\n",
       "    <tr>\n",
       "      <th>21</th>\n",
       "      <td>0.258435</td>\n",
       "      <td>0.907164</td>\n",
       "      <td>0.313018</td>\n",
       "      <td>0.8852</td>\n",
       "    </tr>\n",
       "    <tr>\n",
       "      <th>22</th>\n",
       "      <td>0.254794</td>\n",
       "      <td>0.908127</td>\n",
       "      <td>0.334676</td>\n",
       "      <td>0.8794</td>\n",
       "    </tr>\n",
       "    <tr>\n",
       "      <th>23</th>\n",
       "      <td>0.249590</td>\n",
       "      <td>0.911491</td>\n",
       "      <td>0.318591</td>\n",
       "      <td>0.8826</td>\n",
       "    </tr>\n",
       "    <tr>\n",
       "      <th>24</th>\n",
       "      <td>0.245128</td>\n",
       "      <td>0.911873</td>\n",
       "      <td>0.318640</td>\n",
       "      <td>0.8816</td>\n",
       "    </tr>\n",
       "    <tr>\n",
       "      <th>25</th>\n",
       "      <td>0.241771</td>\n",
       "      <td>0.913782</td>\n",
       "      <td>0.310770</td>\n",
       "      <td>0.8842</td>\n",
       "    </tr>\n",
       "    <tr>\n",
       "      <th>26</th>\n",
       "      <td>0.236362</td>\n",
       "      <td>0.914927</td>\n",
       "      <td>0.313531</td>\n",
       "      <td>0.8884</td>\n",
       "    </tr>\n",
       "    <tr>\n",
       "      <th>27</th>\n",
       "      <td>0.233342</td>\n",
       "      <td>0.916382</td>\n",
       "      <td>0.312286</td>\n",
       "      <td>0.8860</td>\n",
       "    </tr>\n",
       "    <tr>\n",
       "      <th>28</th>\n",
       "      <td>0.229502</td>\n",
       "      <td>0.917455</td>\n",
       "      <td>0.307741</td>\n",
       "      <td>0.8852</td>\n",
       "    </tr>\n",
       "    <tr>\n",
       "      <th>29</th>\n",
       "      <td>0.225467</td>\n",
       "      <td>0.919527</td>\n",
       "      <td>0.305345</td>\n",
       "      <td>0.8854</td>\n",
       "    </tr>\n",
       "  </tbody>\n",
       "</table>\n",
       "</div>"
      ],
      "text/plain": [
       "        loss  accuracy  val_loss  val_accuracy\n",
       "0   0.709764  0.768055  0.501155        0.8284\n",
       "1   0.484831  0.834000  0.461908        0.8326\n",
       "2   0.438228  0.846818  0.422555        0.8518\n",
       "3   0.413928  0.855400  0.391322        0.8612\n",
       "4   0.393297  0.862455  0.390058        0.8596\n",
       "5   0.377317  0.866909  0.392699        0.8626\n",
       "6   0.365387  0.870418  0.368937        0.8674\n",
       "7   0.354002  0.874600  0.370479        0.8652\n",
       "8   0.343540  0.878636  0.348083        0.8778\n",
       "9   0.333423  0.881109  0.347324        0.8738\n",
       "10  0.325217  0.884200  0.370837        0.8644\n",
       "11  0.317528  0.885364  0.342689        0.8748\n",
       "12  0.310343  0.890091  0.328589        0.8810\n",
       "13  0.303091  0.891509  0.334735        0.8818\n",
       "14  0.296961  0.893000  0.333221        0.8832\n",
       "15  0.290042  0.895491  0.328509        0.8798\n",
       "16  0.284834  0.897091  0.333340        0.8784\n",
       "17  0.278809  0.899309  0.326467        0.8844\n",
       "18  0.274272  0.901018  0.349077        0.8704\n",
       "19  0.269296  0.902800  0.319557        0.8852\n",
       "20  0.264200  0.904764  0.313763        0.8856\n",
       "21  0.258435  0.907164  0.313018        0.8852\n",
       "22  0.254794  0.908127  0.334676        0.8794\n",
       "23  0.249590  0.911491  0.318591        0.8826\n",
       "24  0.245128  0.911873  0.318640        0.8816\n",
       "25  0.241771  0.913782  0.310770        0.8842\n",
       "26  0.236362  0.914927  0.313531        0.8884\n",
       "27  0.233342  0.916382  0.312286        0.8860\n",
       "28  0.229502  0.917455  0.307741        0.8852\n",
       "29  0.225467  0.919527  0.305345        0.8854"
      ]
     },
     "execution_count": 37,
     "metadata": {},
     "output_type": "execute_result"
    }
   ],
   "source": [
    "import pandas as pd\n",
    "\n",
    "summary_df = pd.DataFrame(history.history)\n",
    "summary_df"
   ]
  },
  {
   "cell_type": "code",
   "execution_count": 41,
   "metadata": {},
   "outputs": [
    {
     "data": {
      "image/png": "[encoded data removed]",
      "text/plain": [
       "<Figure size 640x480 with 1 Axes>"
      ]
     },
     "metadata": {},
     "output_type": "display_data"
    }
   ],
   "source": [
    "pd.DataFrame(history.history).plot(\n",
    "    ylim=[0,1] , \n",
    "    grid=True , \n",
    "    xlabel='epoch'\n",
    ")\n",
    "\n",
    "plt.show()"
   ]
  },
  {
   "cell_type": "markdown",
   "metadata": {},
   "source": [
    "Evaluating the model"
   ]
  },
  {
   "cell_type": "code",
   "execution_count": 42,
   "metadata": {},
   "outputs": [
    {
     "name": "stdout",
     "output_type": "stream",
     "text": [
      "313/313 [==============================] - 0s 1ms/step - loss: 0.3235 - accuracy: 0.8854\n"
     ]
    },
    {
     "data": {
      "text/plain": [
       "[0.3235371708869934, 0.8853999972343445]"
      ]
     },
     "execution_count": 42,
     "metadata": {},
     "output_type": "execute_result"
    }
   ],
   "source": [
    "model.evaluate(X_test , y_test)"
   ]
  },
  {
   "cell_type": "markdown",
   "metadata": {},
   "source": [
    "Making Predictions using the model"
   ]
  },
  {
   "cell_type": "code",
   "execution_count": 67,
   "metadata": {},
   "outputs": [
    {
     "data": {
      "text/plain": [
       "(20, 28, 28)"
      ]
     },
     "execution_count": 67,
     "metadata": {},
     "output_type": "execute_result"
    }
   ],
   "source": [
    "X_test[:20].shape"
   ]
  },
  {
   "cell_type": "code",
   "execution_count": 70,
   "metadata": {},
   "outputs": [
    {
     "name": "stdout",
     "output_type": "stream",
     "text": [
      "1/1 [==============================] - 0s 23ms/step\n",
      "the predicted class is  Ankle boot The actual class is  Ankle boot\n",
      "the predicted class is  Pullover The actual class is  Pullover\n",
      "the predicted class is  Trouser The actual class is  Trouser\n",
      "the predicted class is  Trouser The actual class is  Trouser\n",
      "the predicted class is  Shirt The actual class is  Shirt\n",
      "the predicted class is  Trouser The actual class is  Trouser\n",
      "the predicted class is  Coat The actual class is  Coat\n",
      "the predicted class is  Shirt The actual class is  Shirt\n",
      "the predicted class is  Sandal The actual class is  Sandal\n",
      "the predicted class is  Sneaker The actual class is  Sneaker\n",
      "the predicted class is  Coat The actual class is  Coat\n",
      "the predicted class is  Sandal The actual class is  Sandal\n",
      "the predicted class is  Sandal The actual class is  Sneaker\n",
      "the predicted class is  Dress The actual class is  Dress\n",
      "the predicted class is  Coat The actual class is  Coat\n",
      "the predicted class is  Trouser The actual class is  Trouser\n",
      "the predicted class is  Pullover The actual class is  Pullover\n",
      "the predicted class is  Pullover The actual class is  Coat\n",
      "the predicted class is  Bag The actual class is  Bag\n",
      "the predicted class is  T-shirt/top The actual class is  T-shirt/top\n"
     ]
    }
   ],
   "source": [
    "test = X_test[:20]\n",
    "actual = y_test[:20]\n",
    "\n",
    "y_probs = model.predict(test)\n",
    "y_probs.round(3)\n",
    "i=0\n",
    "\n",
    "for preds in y_probs.round(2):\n",
    "    image = np.max(preds)\n",
    "    index = np.argmax(preds)\n",
    "    print('the predicted class is ' ,  class_names[index] , 'The actual class is ' , class_names[actual[i]] )\n",
    "    i+=1"
   ]
  },
  {
   "cell_type": "code",
   "execution_count": 74,
   "metadata": {},
   "outputs": [],
   "source": [
    "def get_pred( model ,  test , actual):\n",
    "    plt.imshow(test)\n",
    "\n",
    "    #tgetting the model prediction\n",
    "    preds = y_probs = model.predict(test.reshape(1,-1))\n",
    "    y_probs.round(3)\n",
    "    index = np.argmax(y_probs.round(3))\n",
    "\n",
    "    #getting the predicted class\n",
    "    pred_label = class_names[index]\n",
    "    \n",
    "    print(\"This image is classified as \" , pred_label , 'The actual label was' , actual)"
   ]
  },
  {
   "cell_type": "code",
   "execution_count": 76,
   "metadata": {},
   "outputs": [
    {
     "data": {
      "text/plain": [
       "(<matplotlib.image.AxesImage at 0x1e3fcf8fbd0>, 'Pullover')"
      ]
     },
     "execution_count": 76,
     "metadata": {},
     "output_type": "execute_result"
    },
    {
     "data": {
      "image/png": "[encoded data removed]",
      "text/plain": [
       "<Figure size 640x480 with 1 Axes>"
      ]
     },
     "metadata": {},
     "output_type": "display_data"
    }
   ],
   "source": [
    "plt.imshow(X_test[20] , cmap='gray') , class_names[y_test[20]]\n"
   ]
  },
  {
   "cell_type": "code",
   "execution_count": 77,
   "metadata": {},
   "outputs": [
    {
     "name": "stdout",
     "output_type": "stream",
     "text": [
      "1/1 [==============================] - 0s 31ms/step\n",
      "This image is classified as  Pullover The actual label was Pullover\n"
     ]
    },
    {
     "data": {
      "image/png": "[encoded data removed]",
      "text/plain": [
       "<Figure size 640x480 with 1 Axes>"
      ]
     },
     "metadata": {},
     "output_type": "display_data"
    }
   ],
   "source": [
    "get_pred(model , X_test[20] , 'Pullover')"
   ]
  },
  {
   "cell_type": "code",
   "execution_count": null,
   "metadata": {},
   "outputs": [],
   "source": []
  }
 ],
 "metadata": {
  "kernelspec": {
   "display_name": "Python 3",
   "language": "python",
   "name": "python3"
  },
  "language_info": {
   "codemirror_mode": {
    "name": "ipython",
    "version": 3
   },
   "file_extension": ".py",
   "mimetype": "text/x-python",
   "name": "python",
   "nbconvert_exporter": "python",
   "pygments_lexer": "ipython3",
   "version": "3.11.5"
  }
 },
 "nbformat": 4,
 "nbformat_minor": 2
}
